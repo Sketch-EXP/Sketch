{
 "cells": [
  {
   "cell_type": "code",
   "execution_count": 1,
   "metadata": {},
   "outputs": [],
   "source": [
    "%run -i framework.py\n",
    "%run -i real.py\n",
    "import numpy as np\n",
    "import pandas as pd\n",
    "from scipy import stats\n",
    "from statsmodels.distributions.empirical_distribution import ECDF\n",
    "import xmltodict"
   ]
  },
  {
   "cell_type": "markdown",
   "metadata": {},
   "source": [
    "## Read Data  \n",
    "n_comments is regarded as performance values for each news, so no extra calculation is needed."
   ]
  },
  {
   "cell_type": "code",
   "execution_count": 8,
   "metadata": {},
   "outputs": [
    {
     "data": {
      "text/html": [
       "<div>\n",
       "<style scoped>\n",
       "    .dataframe tbody tr th:only-of-type {\n",
       "        vertical-align: middle;\n",
       "    }\n",
       "\n",
       "    .dataframe tbody tr th {\n",
       "        vertical-align: top;\n",
       "    }\n",
       "\n",
       "    .dataframe thead th {\n",
       "        text-align: right;\n",
       "    }\n",
       "</style>\n",
       "<table border=\"1\" class=\"dataframe\">\n",
       "  <thead>\n",
       "    <tr style=\"text-align: right;\">\n",
       "      <th></th>\n",
       "      <th>section</th>\n",
       "      <th>n_comments</th>\n",
       "      <th>uniqueID</th>\n",
       "    </tr>\n",
       "  </thead>\n",
       "  <tbody>\n",
       "    <tr>\n",
       "      <th>0</th>\n",
       "      <td>Opinion</td>\n",
       "      <td>186</td>\n",
       "      <td>nyt://article/69a7090b-9f36-569e-b5ab-b0ba5bb3...</td>\n",
       "    </tr>\n",
       "    <tr>\n",
       "      <th>1</th>\n",
       "      <td>Crosswords &amp; Games</td>\n",
       "      <td>257</td>\n",
       "      <td>nyt://article/9edddb54-0aa3-5835-a833-d311a76f...</td>\n",
       "    </tr>\n",
       "    <tr>\n",
       "      <th>2</th>\n",
       "      <td>Science</td>\n",
       "      <td>6</td>\n",
       "      <td>nyt://article/04bc90f0-b20b-511c-b5bb-3ce13194...</td>\n",
       "    </tr>\n",
       "    <tr>\n",
       "      <th>3</th>\n",
       "      <td>Science</td>\n",
       "      <td>2</td>\n",
       "      <td>nyt://interactive/5b58d876-9351-50af-9b41-a312...</td>\n",
       "    </tr>\n",
       "    <tr>\n",
       "      <th>4</th>\n",
       "      <td>Science</td>\n",
       "      <td>25</td>\n",
       "      <td>nyt://article/bd8647b3-8ec6-50aa-95cf-2b81ed12...</td>\n",
       "    </tr>\n",
       "  </tbody>\n",
       "</table>\n",
       "</div>"
      ],
      "text/plain": [
       "              section  n_comments  \\\n",
       "0             Opinion         186   \n",
       "1  Crosswords & Games         257   \n",
       "2             Science           6   \n",
       "3             Science           2   \n",
       "4             Science          25   \n",
       "\n",
       "                                            uniqueID  \n",
       "0  nyt://article/69a7090b-9f36-569e-b5ab-b0ba5bb3...  \n",
       "1  nyt://article/9edddb54-0aa3-5835-a833-d311a76f...  \n",
       "2  nyt://article/04bc90f0-b20b-511c-b5bb-3ce13194...  \n",
       "3  nyt://interactive/5b58d876-9351-50af-9b41-a312...  \n",
       "4  nyt://article/bd8647b3-8ec6-50aa-95cf-2b81ed12...  "
      ]
     },
     "execution_count": 8,
     "metadata": {},
     "output_type": "execute_result"
    }
   ],
   "source": [
    "df = pd.read_csv('./nyt-articles-2020.csv')\n",
    "df = df[['section', 'n_comments','uniqueID']]\n",
    "df.head()"
   ]
  },
  {
   "cell_type": "code",
   "execution_count": 3,
   "metadata": {},
   "outputs": [
    {
     "data": {
      "text/plain": [
       "array(['Opinion', 'Crosswords & Games', 'Science', 'World', 'Magazine',\n",
       "       'Books', 'Well', 'Arts', 'Real Estate', 'Business Day', 'Theater',\n",
       "       'Movies', 'Style', 'New York', 'U.S.', 'Obituaries',\n",
       "       'The Learning Network', 'Sports', 'Travel', 'Health', 'Podcasts',\n",
       "       'Technology', 'Food', 'The Upshot', 'Reader Center', 'Climate',\n",
       "       'Fashion & Style', 'The Weekly', 'T Magazine', 'Automobiles',\n",
       "       'Sunday Review', 'Education', 'Smarter Living', 'Times Insider',\n",
       "       'Parenting', 'Your Money', 'At Home', 'Briefing', 'Video',\n",
       "       'International Home', 'Universal', 'Admin'], dtype=object)"
      ]
     },
     "execution_count": 3,
     "metadata": {},
     "output_type": "execute_result"
    }
   ],
   "source": [
    "sections = np.array(df['section'].dropna(how='any').unique())\n",
    "num_sections = sections.size\n",
    "sections"
   ]
  },
  {
   "cell_type": "code",
   "execution_count": 10,
   "metadata": {},
   "outputs": [
    {
     "data": {
      "text/plain": [
       "Text(0.5, 0, 'number of comments')"
      ]
     },
     "execution_count": 10,
     "metadata": {},
     "output_type": "execute_result"
    },
    {
     "data": {
      "image/png": "[encoded data removed]",
      "text/plain": [
       "<Figure size 460.8x345.6 with 1 Axes>"
      ]
     },
     "metadata": {
      "needs_background": "light"
     },
     "output_type": "display_data"
    }
   ],
   "source": [
    "fig= plt.figure (figsize= (6.4,4.8)) \n",
    "ecdf = ECDF(df['n_comments'])\n",
    "plt.plot(ecdf.x, ecdf.y)\n",
    "plt.ylabel(\"ECDF\")\n",
    "plt.xlabel(\"number of comments\")"
   ]
  },
  {
   "cell_type": "code",
   "execution_count": 5,
   "metadata": {},
   "outputs": [],
   "source": [
    "import matplotlib.pyplot as plt \n",
    "## fig.hist(df['n_comments'], bins=100)\n",
    "df.to_csv('times.csv', index=False)"
   ]
  },
  {
   "cell_type": "markdown",
   "metadata": {},
   "source": [
    "## Sample from ECDFs"
   ]
  },
  {
   "cell_type": "code",
   "execution_count": 9,
   "metadata": {},
   "outputs": [],
   "source": [
    "## sample statistics per section\n",
    "data = np.array([np.array(df[df['section']==s]['n_comments']) for s in sections],dtype=object)\n",
    "import pickle5 as pickle\n",
    "data_sizes = np.array([data[i].size for i in range(num_sections)])\n",
    "candidates = np.array([i for i in range(num_sections) if data_sizes[i] >= 100])\n",
    "with open('news.pickle', 'wb') as f:\n",
    "    pickle.dump([data, candidates], f)"
   ]
  },
  {
   "cell_type": "code",
   "execution_count": 4,
   "metadata": {},
   "outputs": [],
   "source": [
    "import pickle5 as pickle\n",
    "with open('news.pickle', 'rb') as f:\n",
    "    data, candidates = pickle.load(f)"
   ]
  },
  {
   "cell_type": "code",
   "execution_count": 5,
   "metadata": {},
   "outputs": [],
   "source": [
    "samples_p = Real_sample(data, candidates, n_sample)\n",
    "samples_q = Discretized_real_sample(data, candidates, 0.01, n_sample)"
   ]
  },
  {
   "cell_type": "code",
   "execution_count": 6,
   "metadata": {},
   "outputs": [],
   "source": [
    "create_output_comp()\n",
    "n = len(candidates)\n",
    "for k in kvals:\n",
    "    set_items = get_sets(n, k, n_sets)\n",
    "    for obj in objs:  \n",
    "        run_comparison(n, k, n_sample, samples_p, samples_q, obj, n_sets, set_items)   "
   ]
  },
  {
   "cell_type": "code",
   "execution_count": 7,
   "metadata": {},
   "outputs": [
    {
     "data": {
      "image/png": "[encoded data removed]",
      "text/plain": [
       "<Figure size 921.6x345.6 with 2 Axes>"
      ]
     },
     "metadata": {
      "needs_background": "light"
     },
     "output_type": "display_data"
    }
   ],
   "source": [
    "def bar_plot(objs):\n",
    "    df = pd.read_csv('./res_score.csv')\n",
    "    fig, axes = plt.subplots(1, 2, figsize = (6.4*2, 4.8))\n",
    "    for i, k in enumerate(kvals):  \n",
    "        current = df[(df['k'] == k)]\n",
    "        x_axis = np.arange(len(objs))\n",
    "        \n",
    "        # calculate means and stds\n",
    "        TS_mean = current.groupby(['obj'])['ratio_TS'].mean()\n",
    "        EB_mean = current.groupby(['obj'])['ratio_EB'].mean()     \n",
    "        TS_std = current.groupby(['obj'])['ratio_TS'].std()\n",
    "        EB_std = current.groupby(['obj'])['ratio_EB'].std()  \n",
    "        \n",
    "        axes[i].bar(x_axis -0.15, TS_mean, yerr= TS_std, capsize=5, width=0.3, label = 'Test Score', alpha= 0.5)\n",
    "        axes[i].bar(x_axis +0.15, EB_mean, yerr= EB_std, capsize=5, width=0.3, label = 'Our method', alpha= 0.5)\n",
    "        # add legends\n",
    "        axes[i].legend(fontsize=14,loc='upper left')\n",
    "        axes[i].grid()\n",
    "        # set xticks and labels\n",
    "        axes[i].set_xticks(x_axis)\n",
    "        axes[i].set_xticklabels(objs, fontsize= 15)\n",
    "        axes[i].set_xlabel(\"objectives\", fontsize= 15)\n",
    "        axes[i].set_ylabel(\"$v(S)/u(S)$\", fontsize= 15)\n",
    "        axes[i].set_ylim((0, 2)) \n",
    "bar_plot(objs)       "
   ]
  },
  {
   "cell_type": "code",
   "execution_count": null,
   "metadata": {},
   "outputs": [],
   "source": []
  }
 ],
 "metadata": {
  "kernelspec": {
   "display_name": "Python 3 (ipykernel)",
   "language": "python",
   "name": "python3"
  },
  "language_info": {
   "codemirror_mode": {
    "name": "ipython",
    "version": 3
   },
   "file_extension": ".py",
   "mimetype": "text/x-python",
   "name": "python",
   "nbconvert_exporter": "python",
   "pygments_lexer": "ipython3",
   "version": "3.9.7"
  }
 },
 "nbformat": 4,
 "nbformat_minor": 2
}
